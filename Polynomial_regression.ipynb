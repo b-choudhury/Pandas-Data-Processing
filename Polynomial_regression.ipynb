{
 "cells": [
  {
   "cell_type": "code",
   "execution_count": 4,
   "metadata": {},
   "outputs": [],
   "source": [
    "%Notebook for polynomial regression\n",
    "data= load('text49.csv');\n",
    "\n",
    "X=data(:,1);\n",
    "m=size(X,1);\n",
    "y=data(:,2);\n",
    "\n",
    "p = 8;\n",
    "\n",
    "% Map X onto Polynomial Features and Normalize\n",
    "X_poly = polyFeatures(X, p);\n",
    "[X_poly, mu, sigma] = featureNormalize(X_poly);  % Normalize\n",
    "X_poly = [ones(m, 1), X_poly];"
   ]
  },
  {
   "cell_type": "code",
   "execution_count": 5,
   "metadata": {
    "scrolled": true
   },
   "outputs": [
    {
     "name": "stdout",
     "output_type": "stream",
     "text": [
      "Iteration   200 | Cost: 5.271337e-01\n"
     ]
    },
    {
     "data": {
      "image/png": "[encoded data removed]",
      "text/plain": [
       "<IPython.core.display.Image object>"
      ]
     },
     "metadata": {},
     "output_type": "display_data"
    }
   ],
   "source": [
    "lambda = 0.00;\n",
    "[theta] = trainLinearReg(X_poly, y, lambda);\n",
    "\n",
    "% Plot training data and fit\n",
    "figure(1);\n",
    "plot(X, y, 'rx', 'MarkerSize', 10, 'LineWidth', 1.5);\n",
    "plotFit(min(X), max(X), mu, sigma, theta, p);\n",
    "xlabel('Time  (x)');\n",
    "ylabel('Cases (y)');\n",
    "title (sprintf('Polynomial Regression Fit (lambda = %f)', lambda));"
   ]
  },
  {
   "cell_type": "code",
   "execution_count": null,
   "metadata": {
    "scrolled": true
   },
   "outputs": [],
   "source": [
    "\n",
    "​\n",
    "%Fitting up to last data point and predicting value only for the next point.\n",
    "X_test=[29:30]';\n",
    "X_poly = polyFeatures(X_test, p);\n",
    "X_poly = bsxfun(@minus, X_poly, mu);\n",
    "X_poly = bsxfun(@rdivide, X_poly, sigma);\n",
    "​\n",
    "X_poly = [ones(size(X_test, 1), 1) X_poly];\n",
    "​\n",
    "plot(X_test, X_poly * theta, '--', 'LineWidth', 2)"
   ]
  },
  {
   "cell_type": "code",
   "execution_count": 6,
   "metadata": {
    "scrolled": true
   },
   "outputs": [
    {
     "data": {
      "image/png": "[encoded data removed]",
      "text/plain": [
       "<IPython.core.display.Image object>"
      ]
     },
     "metadata": {},
     "output_type": "display_data"
    }
   ],
   "source": [
    "%Fitting up to last data point and predicting value only for the next point.\n",
    "X_test=[29:30]';\n",
    "X_poly = polyFeatures(X_test, p);\n",
    "X_poly = bsxfun(@minus, X_poly, mu);\n",
    "X_poly = bsxfun(@rdivide, X_poly, sigma);\n",
    "\n",
    "X_poly = [ones(size(X_test, 1), 1) X_poly];\n",
    "\n",
    "plot(X_test, X_poly * theta, '--', 'LineWidth', 2)"
   ]
  },
  {
   "cell_type": "code",
   "execution_count": 7,
   "metadata": {
    "scrolled": true
   },
   "outputs": [
    {
     "name": "stdout",
     "output_type": "stream",
     "text": [
      "ans =\r\n",
      "\r\n",
      "   32.604\r\n",
      "   35.080\r\n",
      "\r\n"
     ]
    }
   ],
   "source": [
    "X_poly*theta"
   ]
  },
  {
   "cell_type": "code",
   "execution_count": 8,
   "metadata": {},
   "outputs": [
    {
     "name": "stdout",
     "output_type": "stream",
     "text": [
      "y =\r\n",
      "\r\n",
      "    1\r\n",
      "    1\r\n",
      "    1\r\n",
      "    1\r\n",
      "    1\r\n",
      "    1\r\n",
      "    1\r\n",
      "    2\r\n",
      "    2\r\n",
      "    2\r\n",
      "    2\r\n",
      "    4\r\n",
      "    5\r\n",
      "    5\r\n",
      "    6\r\n",
      "    6\r\n",
      "    6\r\n",
      "    8\r\n",
      "   10\r\n",
      "   11\r\n",
      "   11\r\n",
      "   16\r\n",
      "   16\r\n",
      "   16\r\n",
      "   24\r\n",
      "   25\r\n",
      "   28\r\n",
      "   28\r\n",
      "   33\r\n",
      "\r\n"
     ]
    }
   ],
   "source": [
    "y"
   ]
  },
  {
   "cell_type": "code",
   "execution_count": 62,
   "metadata": {},
   "outputs": [
    {
     "name": "stdout",
     "output_type": "stream",
     "text": [
      "m =  29\r\n"
     ]
    }
   ],
   "source": [
    "m"
   ]
  },
  {
   "cell_type": "code",
   "execution_count": null,
   "metadata": {},
   "outputs": [],
   "source": []
  },
  {
   "cell_type": "code",
   "execution_count": null,
   "metadata": {},
   "outputs": [],
   "source": []
  }
 ],
 "metadata": {
  "kernelspec": {
   "display_name": "Octave",
   "language": "octave",
   "name": "octave"
  },
  "language_info": {
   "file_extension": ".m",
   "help_links": [
    {
     "text": "GNU Octave",
     "url": "https://www.gnu.org/software/octave/support.html"
    },
    {
     "text": "Octave Kernel",
     "url": "https://github.com/Calysto/octave_kernel"
    },
    {
     "text": "MetaKernel Magics",
     "url": "https://metakernel.readthedocs.io/en/latest/source/README.html"
    }
   ],
   "mimetype": "text/x-octave",
   "name": "octave",
   "version": "5.2.0"
  }
 },
 "nbformat": 4,
 "nbformat_minor": 2
}
