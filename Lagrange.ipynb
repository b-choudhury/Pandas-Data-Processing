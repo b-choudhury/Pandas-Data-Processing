{
 "cells": [
  {
   "cell_type": "code",
   "execution_count": 128,
   "metadata": {},
   "outputs": [],
   "source": [
    "import numpy as np\n",
    "import matplotlib.pyplot as plt\n",
    "from gll import gll\n",
    "import pandas as pd"
   ]
  },
  {
   "cell_type": "code",
   "execution_count": 129,
   "metadata": {},
   "outputs": [],
   "source": [
    "df = pd.read_csv('dat.csv')"
   ]
  },
  {
   "cell_type": "code",
   "execution_count": 130,
   "metadata": {},
   "outputs": [
    {
     "data": {
      "text/plain": [
       "1475"
      ]
     },
     "execution_count": 130,
     "metadata": {},
     "output_type": "execute_result"
    }
   ],
   "source": [
    "arr=np.array(df.county.unique())\n",
    "arr.size"
   ]
  },
  {
   "cell_type": "code",
   "execution_count": 131,
   "metadata": {},
   "outputs": [],
   "source": [
    "by_county=df.groupby('county')"
   ]
  },
  {
   "cell_type": "code",
   "execution_count": 132,
   "metadata": {},
   "outputs": [],
   "source": [
    "lis=[]\n",
    "for i in range(0,arr.size):\n",
    "    df_1=by_county.get_group(arr[i])\n",
    "    lis.append(df_1)"
   ]
  },
  {
   "cell_type": "code",
   "execution_count": 133,
   "metadata": {},
   "outputs": [
    {
     "data": {
      "text/plain": [
       "[<matplotlib.lines.Line2D at 0x11319aed0>]"
      ]
     },
     "execution_count": 133,
     "metadata": {},
     "output_type": "execute_result"
    },
    {
     "data": {
      "image/png": "[encoded data removed]",
      "text/plain": [
       "<Figure size 432x288 with 1 Axes>"
      ]
     },
     "metadata": {
      "needs_background": "light"
     },
     "output_type": "display_data"
    }
   ],
   "source": [
    "import matplotlib.pyplot as plt\n",
    "dates=lis[35]['date']\n",
    "deaths=lis[35]['deaths']\n",
    "cases=lis[35]['cases']\n",
    "plt.plot(np.arange(1,deaths.size+1,1),cases)"
   ]
  },
  {
   "cell_type": "code",
   "execution_count": 134,
   "metadata": {},
   "outputs": [],
   "source": [
    "x=np.arange(1,deaths.size+1,1)"
   ]
  },
  {
   "cell_type": "code",
   "execution_count": 135,
   "metadata": {},
   "outputs": [],
   "source": [
    "def lagrange(N, i, x, xi):\n",
    "    \"\"\"\n",
    "    Function to calculate  Lagrange polynomial for order N\n",
    "    and polynomial i [0, N] at location x at given collocation points xi\n",
    "    (not necessarily the GLL-points)\n",
    "    \"\"\"\n",
    "    fac = 1\n",
    "    for j in range(-1, N):\n",
    "        if j != i:\n",
    "            fac = fac * ((x - xi[j + 1]) / (xi[i + 1] - xi[j + 1]))\n",
    "    return fac"
   ]
  },
  {
   "cell_type": "code",
   "execution_count": 136,
   "metadata": {},
   "outputs": [],
   "source": [
    "def f(theta0,theta1,theta2,theta3,theta4,theta5,theta6,theta7,theta8):\n",
    "    f = theta0+theta1*x+theta2*(x**2)+theta3*(x**3)+theta4*(x**4)+theta5*(x**5)+theta6*(x**6)+theta7*(x**7)+theta8*(x**8)\n",
    "    return f"
   ]
  },
  {
   "cell_type": "code",
   "execution_count": 137,
   "metadata": {},
   "outputs": [],
   "source": [
    "func = f(  921.388,-31.969,-48.458,253.715,418.294,409.992,287.878,116.456,-54.042)"
   ]
  },
  {
   "cell_type": "code",
   "execution_count": 138,
   "metadata": {},
   "outputs": [],
   "source": [
    "f = open('file1.txt', 'r')\n",
    "Xpoly = f.readlines()\n",
    "f.close()"
   ]
  },
  {
   "cell_type": "code",
   "execution_count": 139,
   "metadata": {},
   "outputs": [],
   "source": [
    "Xpoly=np.array([float(i) for i in Xpoly])"
   ]
  },
  {
   "cell_type": "code",
   "execution_count": 146,
   "metadata": {
    "scrolled": false
   },
   "outputs": [
    {
     "data": {
      "text/plain": [
       "[<matplotlib.lines.Line2D at 0x113614bd0>]"
      ]
     },
     "execution_count": 146,
     "metadata": {},
     "output_type": "execute_result"
    },
    {
     "data": {
      "image/png": "[encoded data removed]",
      "text/plain": [
       "<Figure size 432x288 with 1 Axes>"
      ]
     },
     "metadata": {
      "needs_background": "light"
     },
     "output_type": "display_data"
    }
   ],
   "source": [
    "plt.plot(Xpoly,x)"
   ]
  },
  {
   "cell_type": "code",
   "execution_count": 141,
   "metadata": {},
   "outputs": [],
   "source": [
    "f=func"
   ]
  },
  {
   "cell_type": "code",
   "execution_count": 147,
   "metadata": {},
   "outputs": [],
   "source": [
    "# Give order of Lagrange polynomial\n",
    "N = 10\n",
    "\n",
    "# Get collocation points xi from gll routine (worth having a look)\n",
    "[xi, w] = gll(N)\n",
    "fi = np.interp(xi, x, f) \n",
    "  \n",
    "# Initialize Lagrange polynomials on the defined grid\n",
    "lp = np.zeros((N + 1, len(x)))\n",
    "for i in range(0, len(x)):\n",
    "    for j in range(-1, N):\n",
    "        lp[j + 1, i] = lagrange(N, j, x[i], xi)\n",
    "        "
   ]
  },
  {
   "cell_type": "code",
   "execution_count": 148,
   "metadata": {},
   "outputs": [],
   "source": [
    "s = x * 0\n",
    "for j in range(0, N + 1):   \n",
    "    s = s + lp[j, :] * fi[j]\n",
    "#\n",
    "######################################################\n",
    "\n",
    "# Calculate error of original and interpolated function\n",
    "error = np.sum((np.abs(f - s))) / np.sum(np.abs(f)) * 100"
   ]
  },
  {
   "cell_type": "code",
   "execution_count": 149,
   "metadata": {},
   "outputs": [
    {
     "data": {
      "text/plain": [
       "93.34082952614325"
      ]
     },
     "execution_count": 149,
     "metadata": {},
     "output_type": "execute_result"
    }
   ],
   "source": [
    "error"
   ]
  },
  {
   "cell_type": "code",
   "execution_count": null,
   "metadata": {},
   "outputs": [],
   "source": []
  },
  {
   "cell_type": "code",
   "execution_count": null,
   "metadata": {},
   "outputs": [],
   "source": []
  }
 ],
 "metadata": {
  "kernelspec": {
   "display_name": "Python 3",
   "language": "python",
   "name": "python3"
  },
  "language_info": {
   "codemirror_mode": {
    "name": "ipython",
    "version": 2
   },
   "file_extension": ".py",
   "mimetype": "text/x-python",
   "name": "python",
   "nbconvert_exporter": "python",
   "pygments_lexer": "ipython2",
   "version": "2.7.16"
  }
 },
 "nbformat": 4,
 "nbformat_minor": 2
}
